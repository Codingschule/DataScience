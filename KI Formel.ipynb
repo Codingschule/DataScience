{
  "cells": [
    {
      "metadata": {},
      "cell_type": "markdown",
      "source": "# KI zur Lösung einer Gleichung"
    },
    {
      "metadata": {},
      "cell_type": "markdown",
      "source": "In diesem Beispiel trainieren wir unser neuronales Netz eine mathematische Gleichung zulösen.\nDie hierfür nötigen Daten zum Training generieren wir über Zufallszahlen."
    },
    {
      "metadata": {},
      "cell_type": "markdown",
      "source": "Zunächst müssen wir die Biblitohek **sklearn** für unser neuronales Netz und eine Bibilothek für die genrierung von Zufallszahlen **random** importieren."
    },
    {
      "metadata": {
        "trusted": true
      },
      "cell_type": "code",
      "source": "from random import randint\nfrom sklearn.linear_model import LinearRegression",
      "execution_count": null,
      "outputs": []
    },
    {
      "metadata": {},
      "cell_type": "markdown",
      "source": "## Unsere Trainings-Daten"
    },
    {
      "metadata": {},
      "cell_type": "markdown",
      "source": "Zur Erzeugung unser Trainings-Daten nutzen wir eine **for**-Schleife die bei jedem Durchlauf andere zufällige Zahlen in unserer (für uns bekannten) Formel berechnet.\n\nDie Formel lautet **op = (10*a) - (2*b)**. Unser KI soll später nur durch die Informationen über a und b auf die Lösung **op** kommen, obwohl ihr die eigentliche Formel gar nicht bekannt ist.\n\nDie Test Daten speichern wir in den zwei Listen **TRAIN_INPUT** und **TRAIN_OUTPUT**. Diese legen wir zunächst als leere Listen an."
    },
    {
      "metadata": {
        "trusted": true
      },
      "cell_type": "code",
      "source": "TRAIN_INPUT = list()\nTRAIN_OUTPUT= list()",
      "execution_count": null,
      "outputs": []
    },
    {
      "metadata": {},
      "cell_type": "markdown",
      "source": "Unsere **for**-Schleife wird 50mal durchlaufen und erzeugt bei jedem Durchlauf zwei Zufallszahlen von 0 - 1000 (**randint**). Diese Zufallszahlen setzen wir in unsere Formel ein und berechnen das Ergebnis für **op**.\nSowohl die Zahlen für **a** und **b**, als auch die Zahl für **op** hängen wir an unsere beiden Listen für die Trainingsdaten an (**append**)."
    },
    {
      "metadata": {
        "trusted": true
      },
      "cell_type": "code",
      "source": "for i in range(50):\n    a = randint(0, 1000)\n    b = randint(0, 1000)\n    op = (10*a) + (2*b)\n    TRAIN_INPUT.append([a,b])\n    TRAIN_OUTPUT.append(op)\n",
      "execution_count": null,
      "outputs": []
    },
    {
      "metadata": {},
      "cell_type": "markdown",
      "source": "Mit **print()** können wir uns den Inhalt der Trainingsdaten (TRAIN_INPUT und TRAIN_OUTPUT) angucken."
    },
    {
      "metadata": {
        "trusted": true
      },
      "cell_type": "code",
      "source": "print(TRAIN_INPUT)",
      "execution_count": null,
      "outputs": []
    },
    {
      "metadata": {},
      "cell_type": "markdown",
      "source": "## Unsere KI"
    },
    {
      "metadata": {},
      "cell_type": "markdown",
      "source": "Im ersten Schritt müssen wir uns ein Objekt (**predictor**) der Klasse **LinearRegression** erzeugen, welches unsere KI beinhaltet."
    },
    {
      "metadata": {
        "trusted": true
      },
      "cell_type": "code",
      "source": "predictor = LinearRegression()",
      "execution_count": null,
      "outputs": []
    },
    {
      "metadata": {},
      "cell_type": "markdown",
      "source": "Anschließend können wir unsere KI über die Methode **fit()** und unseren Trainingsdaten trainieren. Unsere KI erhält also keine Informationen über die eigentliche Formel!"
    },
    {
      "metadata": {
        "trusted": true
      },
      "cell_type": "code",
      "source": "predictor.fit(X=TRAIN_INPUT, y=TRAIN_OUTPUT) ",
      "execution_count": null,
      "outputs": []
    },
    {
      "metadata": {},
      "cell_type": "markdown",
      "source": "Ist unsers KI trainiert, können wir dieser beliebige Werte für **a** und **b** mitteilen und erhalten das Eregebnis für **op**."
    },
    {
      "metadata": {
        "trusted": true
      },
      "cell_type": "code",
      "source": "X_TEST = [[10,20]] #Werte für a und b\n\noutcome = predictor.predict(X=X_TEST) \n\nprint (outcome)",
      "execution_count": null,
      "outputs": []
    },
    {
      "metadata": {},
      "cell_type": "markdown",
      "source": "Zusätzlich können wir uns ausgeben, von welchen Koeffizienten unsere KI ausgeht. Dies sollten in unserem Beispiel die Zahlen 10 und 2 sein."
    },
    {
      "metadata": {
        "trusted": true
      },
      "cell_type": "code",
      "source": "coefficients = predictor.coef_\n\nprint (coefficents)",
      "execution_count": null,
      "outputs": []
    }
  ],
  "metadata": {
    "kernelspec": {
      "name": "python36",
      "display_name": "Python 3.6",
      "language": "python"
    },
    "language_info": {
      "mimetype": "text/x-python",
      "nbconvert_exporter": "python",
      "name": "python",
      "pygments_lexer": "ipython3",
      "version": "3.6.6",
      "file_extension": ".py",
      "codemirror_mode": {
        "version": 3,
        "name": "ipython"
      }
    }
  },
  "nbformat": 4,
  "nbformat_minor": 1
}