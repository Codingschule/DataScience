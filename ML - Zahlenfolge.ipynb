{
  "cells": [
    {
      "metadata": {},
      "cell_type": "markdown",
      "source": "# Machine Learning - Zahlenfolge"
    },
    {
      "metadata": {},
      "cell_type": "markdown",
      "source": "Eine einfache Zahlenfolge ist für uns Menschen i.d.R. schnell weiterzuführen, für den Computer ist dies bereits eine komplexe Aufgabe.\nDas folgende Beispiel nutzt die MachineLearn-Bibliothek **Tensorflow** und verdeutlicht wie sich Eregebnisse bei mehreren Trainingsdurchläufen verändert. Gleichzeitig wird deutlich, dass es sich bei dem Ergebnis nur um eine Annäherung mit einer möglichst kleinen Fehlerate handelt."
    },
    {
      "metadata": {},
      "cell_type": "markdown",
      "source": "Zunächst importieren wir die Bibliothek **Tensorflow**."
    },
    {
      "metadata": {
        "trusted": true
      },
      "cell_type": "code",
      "source": "import tensorflow as tf\nfrom tensorflow import keras",
      "execution_count": null,
      "outputs": []
    },
    {
      "metadata": {},
      "cell_type": "markdown",
      "source": "Im nächsten Schritt erzeugen wir unser neuronales Netz."
    },
    {
      "metadata": {
        "trusted": true
      },
      "cell_type": "code",
      "source": "model = keras.Sequential([keras.layers.Dense(units=1, input_shape=[1])])\n\nmodel.compile(optimizer='sgd', loss='mean_squared_error')",
      "execution_count": null,
      "outputs": []
    },
    {
      "metadata": {},
      "cell_type": "markdown",
      "source": "## Unsere Zahlenfolge"
    },
    {
      "metadata": {},
      "cell_type": "markdown",
      "source": "Unsere Zahlenfolge kann beliebige Werte beinhalten. Diese Werte können wir als Liste in der Variable **ys** speichern. Zusätzlich legen wir noch eine Liste **xs** an, die die Stelle der Werte in **ys** definiert."
    },
    {
      "metadata": {
        "trusted": true
      },
      "cell_type": "code",
      "source": "xs=[1, 2, 3,4] # Stelle / Position der Werte in ys\nys=[1, 2, 3,4] # Zahlenfolge",
      "execution_count": null,
      "outputs": []
    },
    {
      "metadata": {},
      "cell_type": "markdown",
      "source": "## Training"
    },
    {
      "metadata": {},
      "cell_type": "markdown",
      "source": "Mit Hilfe der Methode **fit()** können wir unser neuronales Netz trainieren. Hierfür geben wir unsere beiden Listen **xs** und **ys** als Paremeter an. Zusätzlich legen wir die Anzahl der Durchläufe fest (**epochs**). Auch wenn wir immer mit den gleichen Werten trainieren, nimmt die Genauigkeit in diesem Beispiel bei jedem Durchlauf zu.\n\nSobald wir die Programmmzeile ausführen, sehen wir eine Ausgabe der einzelnen Durchläufe mit einem **loss**-Wert. Dieser Wert gibt die Fehlerwahrscheinlichkeit an, je geringer der Wert desto besser das Ergebnis.\n\nIn weitern Durchläufen können wir z.B. die Anzahl der Durchläufe (epochs) reduzieren."
    },
    {
      "metadata": {
        "trusted": true
      },
      "cell_type": "code",
      "source": "model.fit(xs, ys, epochs=1000)",
      "execution_count": null,
      "outputs": []
    },
    {
      "metadata": {},
      "cell_type": "markdown",
      "source": "## Abfrage unseres neuronalen Netzes"
    },
    {
      "metadata": {},
      "cell_type": "markdown",
      "source": "Mit der Methode **predict** können wir unser neuronales Netz abfragen. Wollen wir z.B. wissen, wie das Ergebnis für **ys** lautet, wenn **xs** gleich 3 führen wir folgende Programmzeile aus. Je nach Genauigkeit unseres neuronalen Netzes bekommen wir ein mehr oder weniger genaues Ergebnis."
    },
    {
      "metadata": {
        "trusted": true
      },
      "cell_type": "code",
      "source": "print(model.predict([3]))",
      "execution_count": null,
      "outputs": []
    },
    {
      "metadata": {},
      "cell_type": "markdown",
      "source": "Genau so können wir jedoch auch Werte für nicht existierende Stellen unsere Beispieldaten abfragen."
    },
    {
      "metadata": {
        "trusted": true
      },
      "cell_type": "code",
      "source": "print(model.predict([6]))",
      "execution_count": null,
      "outputs": []
    }
  ],
  "metadata": {
    "kernelspec": {
      "name": "python36",
      "display_name": "Python 3.6",
      "language": "python"
    },
    "language_info": {
      "mimetype": "text/x-python",
      "nbconvert_exporter": "python",
      "name": "python",
      "pygments_lexer": "ipython3",
      "version": "3.6.6",
      "file_extension": ".py",
      "codemirror_mode": {
        "version": 3,
        "name": "ipython"
      }
    }
  },
  "nbformat": 4,
  "nbformat_minor": 1
}