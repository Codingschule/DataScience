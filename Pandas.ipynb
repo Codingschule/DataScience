{
  "cells": [
    {
      "metadata": {},
      "cell_type": "markdown",
      "source": "# Datenanalyse mit Python und Pandas"
    },
    {
      "metadata": {
        "trusted": true
      },
      "cell_type": "code",
      "source": "import pandas as pd",
      "execution_count": null,
      "outputs": []
    },
    {
      "metadata": {},
      "cell_type": "markdown",
      "source": "Die Bibliothek Pandas bietet zahlreiche Funktionen und Hilfsmittel zum Arbeiten mit Daten und deren Analyse.\n\nNeben dem schnellen Import von CSV oder Excel Dateien, können Daten aus Datenbanken mit wenigen Befehlen importiert werden."
    },
    {
      "metadata": {
        "trusted": true
      },
      "cell_type": "code",
      "source": "df = pd.read_csv('MOCK_DATA.csv') # https://www.mockaroo.com/",
      "execution_count": null,
      "outputs": []
    },
    {
      "metadata": {},
      "cell_type": "markdown",
      "source": "## Anzeige der eingelesenen Daten"
    },
    {
      "metadata": {
        "trusted": true
      },
      "cell_type": "code",
      "source": "df",
      "execution_count": null,
      "outputs": []
    },
    {
      "metadata": {
        "trusted": true
      },
      "cell_type": "code",
      "source": "df.head()\n#df.tail()",
      "execution_count": null,
      "outputs": []
    },
    {
      "metadata": {
        "trusted": true
      },
      "cell_type": "code",
      "source": "# Anzeige der Datentypen und Eigenschaften der Daten (Dataframe)\ndf.info()",
      "execution_count": null,
      "outputs": []
    },
    {
      "metadata": {},
      "cell_type": "markdown",
      "source": "## Datum in Alter umwandeln"
    },
    {
      "metadata": {},
      "cell_type": "markdown",
      "source": "Die aus der CSV Datei eingelesenen Daten liegen zunächst nur im Datentype \"Zahlen\" oder \"Text\" vor (vgl. Datentypen in Excel). Damit wir die vorgefertigten Funktionen für die Arbeit mit Datums- und Zeitwerten nutzen könnnen, müssen wir das Datum zunächst umwandeln. Anschließend können wir mathematische Berechnungen durchführen oder die Daten \"richtig\" sortieren."
    },
    {
      "metadata": {
        "trusted": true
      },
      "cell_type": "code",
      "source": "df['birthday'] = pd.to_datetime(df['birthday'], format='%m/%d/%Y')",
      "execution_count": null,
      "outputs": []
    },
    {
      "metadata": {
        "trusted": true
      },
      "cell_type": "code",
      "source": "df.info()",
      "execution_count": null,
      "outputs": []
    },
    {
      "metadata": {
        "trusted": true
      },
      "cell_type": "code",
      "source": "df.sort_values('birthday',ascending=True)",
      "execution_count": null,
      "outputs": []
    },
    {
      "metadata": {
        "trusted": true
      },
      "cell_type": "code",
      "source": "now = pd.Timestamp('now')\ndf['age'] = (now - df['birthday']).astype('<m8[Y]')",
      "execution_count": null,
      "outputs": []
    },
    {
      "metadata": {
        "trusted": true
      },
      "cell_type": "code",
      "source": "df",
      "execution_count": null,
      "outputs": []
    },
    {
      "metadata": {
        "trusted": true
      },
      "cell_type": "code",
      "source": "# Ausgabe von statistischen Werten\n\ndf.describe()",
      "execution_count": null,
      "outputs": []
    },
    {
      "metadata": {},
      "cell_type": "markdown",
      "source": "## Fehlende Daten"
    },
    {
      "metadata": {
        "trusted": true
      },
      "cell_type": "code",
      "source": "df[\"gender\"].fillna(value=\"unbekannt\")",
      "execution_count": null,
      "outputs": []
    },
    {
      "metadata": {},
      "cell_type": "markdown",
      "source": "## Doppelte Einträge"
    },
    {
      "metadata": {
        "trusted": true
      },
      "cell_type": "code",
      "source": "df_duplicate = df[df.duplicated()]",
      "execution_count": null,
      "outputs": []
    },
    {
      "metadata": {
        "trusted": true
      },
      "cell_type": "code",
      "source": "df_duplicate",
      "execution_count": null,
      "outputs": []
    },
    {
      "metadata": {},
      "cell_type": "markdown",
      "source": "## Gruppieren"
    },
    {
      "metadata": {
        "trusted": true
      },
      "cell_type": "code",
      "source": "df.groupby('age')['id'].count()",
      "execution_count": null,
      "outputs": []
    },
    {
      "metadata": {},
      "cell_type": "markdown",
      "source": "# Arbeiten mit Diagrammen"
    },
    {
      "metadata": {},
      "cell_type": "markdown",
      "source": "Mit Hilfe der Bibliothek **matplotlib** können wir verschiedenste Diagramme zu unseren Daten ausgeben."
    },
    {
      "metadata": {
        "trusted": true
      },
      "cell_type": "code",
      "source": "import matplotlib as plt\nimport numpy as np",
      "execution_count": null,
      "outputs": []
    },
    {
      "metadata": {
        "trusted": true
      },
      "cell_type": "code",
      "source": "# Gruppieren nach Altersbereich\ndf_grouped = df.groupby(pd.cut(df[\"age\"], bins=[0,20, 30, 40,50,60])).count()",
      "execution_count": null,
      "outputs": []
    },
    {
      "metadata": {
        "trusted": true
      },
      "cell_type": "code",
      "source": "df_grouped.plot(kind='bar',x='age',y='id')",
      "execution_count": null,
      "outputs": []
    }
  ],
  "metadata": {
    "kernelspec": {
      "name": "python36",
      "display_name": "Python 3.6",
      "language": "python"
    },
    "language_info": {
      "mimetype": "text/x-python",
      "nbconvert_exporter": "python",
      "name": "python",
      "pygments_lexer": "ipython3",
      "version": "3.6.6",
      "file_extension": ".py",
      "codemirror_mode": {
        "version": 3,
        "name": "ipython"
      }
    }
  },
  "nbformat": 4,
  "nbformat_minor": 2
}