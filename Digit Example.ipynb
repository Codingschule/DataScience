{
  "cells": [
    {
      "metadata": {},
      "cell_type": "markdown",
      "source": "# Machine Learning - Digit Example"
    },
    {
      "metadata": {},
      "cell_type": "markdown",
      "source": "Scikit-learn ist eine freie Software-Bibliothek zum maschinellen Lernen für die Programmiersprache Python. Diese Bibliothek bringt bereits verschiedene Daten zum Trainieren eines neuroanlen Netzes mit. \nIm folgenden Beispiel werden wir ein neuronales Netz mit handschriftlichen Zahlen trainieren und eigene Bilder durch unser neuronales Netz prüfen lassen."
    },
    {
      "metadata": {},
      "cell_type": "markdown",
      "source": "## Einlesen der Beispiel Daten"
    },
    {
      "metadata": {},
      "cell_type": "markdown",
      "source": "Um die Beispiel Daten nutzen zukönnen, müssen wir die entsprechende Bibliothek **\"datasets\"** importieren. Anschließend können wir die Daten über die Methode **\"load_digits()\"** importieren"
    },
    {
      "metadata": {
        "trusted": true
      },
      "cell_type": "code",
      "source": "from sklearn import datasets",
      "execution_count": null,
      "outputs": []
    },
    {
      "metadata": {
        "trusted": true
      },
      "cell_type": "code",
      "source": "zahlen = datasets.load_digits()",
      "execution_count": null,
      "outputs": []
    },
    {
      "metadata": {},
      "cell_type": "markdown",
      "source": "## Ausgabe der Beispiel Daten"
    },
    {
      "metadata": {},
      "cell_type": "markdown",
      "source": "In der Variable **zahlen** sind jetzt folgende Daten gespeichert:\n* Daten zum Trainieren unseres neuronalen Netzes (.data)\n* Bilder der jeweiligen Ziffern (.images)\n* Beschreibungen der Ziffern (Wert) (.target)\n\nMit Hilfe von print() können wir diese Ziffern und Informationen in Text-Form ausgeben."
    },
    {
      "metadata": {
        "trusted": true
      },
      "cell_type": "code",
      "source": "# Ausgabe des Ziffern-Bildes\nprint(zahlen.images[2])",
      "execution_count": null,
      "outputs": []
    },
    {
      "metadata": {
        "trusted": true,
        "scrolled": true
      },
      "cell_type": "code",
      "source": "# Ausgabe der Ziffer als Zahl\nprint(zahlen.target[2])",
      "execution_count": null,
      "outputs": []
    },
    {
      "metadata": {
        "trusted": true
      },
      "cell_type": "code",
      "source": "print(zahlen.data[2])",
      "execution_count": null,
      "outputs": []
    },
    {
      "metadata": {},
      "cell_type": "markdown",
      "source": "### Aufgabe: Gebe das dritte und 13. Bild mit print() aus."
    },
    {
      "metadata": {
        "trusted": true
      },
      "cell_type": "code",
      "source": "# Ausgabe",
      "execution_count": null,
      "outputs": []
    },
    {
      "metadata": {},
      "cell_type": "markdown",
      "source": "## Ausgabe der Zahl als Bild"
    },
    {
      "metadata": {},
      "cell_type": "markdown",
      "source": "Für die Ausgabe von Diagrammen und Bildern kann die Bibliothek \"matplotlib\" verwendet werden. Diese importieren wir mit **import** mit einem Synonym (**as plt**)."
    },
    {
      "metadata": {
        "trusted": true
      },
      "cell_type": "code",
      "source": "import matplotlib.pyplot as plt",
      "execution_count": null,
      "outputs": []
    },
    {
      "metadata": {
        "trusted": true
      },
      "cell_type": "code",
      "source": "plt.imshow(zahlen.images[1], cmap=plt.cm.gray_r)\nplt.show()",
      "execution_count": null,
      "outputs": []
    },
    {
      "metadata": {},
      "cell_type": "markdown",
      "source": "##  Das neuronale Netz"
    },
    {
      "metadata": {
        "trusted": true
      },
      "cell_type": "markdown",
      "source": "Das von uns trainierte neuronale Netz basiert auf der Bibilothek **scikit-learn**."
    },
    {
      "metadata": {
        "trusted": true
      },
      "cell_type": "code",
      "source": "from sklearn.svm import SVC",
      "execution_count": null,
      "outputs": []
    },
    {
      "metadata": {},
      "cell_type": "markdown",
      "source": "Mit Hilfe des Befehls **fit()** können wir unser neuronale Netz mit unseren Beispieldaten trainieren."
    },
    {
      "metadata": {
        "trusted": true
      },
      "cell_type": "code",
      "source": "neuronales_netz = SVC(gamma = 0.001)\nneuronales_netz.fit(zahlen.data, zahlen.target)",
      "execution_count": null,
      "outputs": []
    },
    {
      "metadata": {},
      "cell_type": "markdown",
      "source": "### Testen"
    },
    {
      "metadata": {
        "trusted": true
      },
      "cell_type": "markdown",
      "source": "Nach dem wir unser neuronales Netz trainiert haben, können wir Bilder auf die jeweilige Ziffer prüfen lassen (**predict**). Hierfür können wir zunächst Bilder aus unseren Beispiel Daten nehmen.\n\nAus unseren obigen Ergebnissen wissen wir, dass das Bild **zahlen.data[2]** die Ziffer **2** darstellt. Für die Prüfung durch unser neuronales Netz müssen wir die Daten der Bilder zunächst mit dem Befehl **reshape()** umwandeln. Die umgewandelten Bilder speichern wir in der Variable **img**."
    },
    {
      "metadata": {
        "trusted": true
      },
      "cell_type": "code",
      "source": "n_samples = len(zahlen.images)\nimg = zahlen.images.reshape((n_samples,-1))\nneuronales_netz.predict([img[2]])",
      "execution_count": null,
      "outputs": []
    },
    {
      "metadata": {
        "trusted": true
      },
      "cell_type": "markdown",
      "source": "Auch eigene Bilder können gegen unser neuronales Netz getestet werden. Im Verzeichnis liegen hierzu bereits die Bilder *1.png*, *5.jpg* und *8.jpg*. Weitere Bilder können auch hochgeladen werden. Der Dateiname wird in der Variable **filename** hinterlegt."
    },
    {
      "metadata": {
        "trusted": true
      },
      "cell_type": "code",
      "source": "from skimage.io import imread\nfrom skimage.exposure import rescale_intensity\nfrom skimage.transform import resize\n\nfilename = \"1.png\"\nimg = resize(imread(filename), (8,8))\nimg = rescale_intensity(img, out_range=(0, 16))\n\nx_test = [sum(pixel)/3.0 for row in img for pixel in row]\nprint(\"The predicted digit is {}\".format(neuronales_netz.predict([x_test])))",
      "execution_count": null,
      "outputs": []
    }
  ],
  "metadata": {
    "kernelspec": {
      "name": "python3",
      "display_name": "Python 3",
      "language": "python"
    },
    "language_info": {
      "mimetype": "text/x-python",
      "nbconvert_exporter": "python",
      "name": "python",
      "file_extension": ".py",
      "version": "3.5.4",
      "pygments_lexer": "ipython3",
      "codemirror_mode": {
        "version": 3,
        "name": "ipython"
      }
    }
  },
  "nbformat": 4,
  "nbformat_minor": 2
}