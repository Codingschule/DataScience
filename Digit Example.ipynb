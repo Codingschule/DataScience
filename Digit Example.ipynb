{
  "cells": [
    {
      "metadata": {},
      "cell_type": "markdown",
      "source": "# Machine Learning - Digit Example"
    },
    {
      "metadata": {},
      "cell_type": "markdown",
      "source": "Scikit-learn ist eine freie Software-Bibliothek zum maschinellen Lernen für die Programmiersprache Python. Diese Bibliothek bringt bereits verschiedene Daten zum Trainieren eines neuroanlen Netzes mit. \nIm folgenden Beispiel werden wir ein neuronales Netz mit handschriftlichen Zahlen trainieren und eigene Bilder durch unser neuronales Netz prüfen lassen."
    },
    {
      "metadata": {},
      "cell_type": "markdown",
      "source": "## Einlesen der Beispiel Daten"
    },
    {
      "metadata": {},
      "cell_type": "markdown",
      "source": "Um die Beispiel Daten nutzen zukönnen, müssen wir die entsprechende Bibliothek **\"datasets\"** importieren. Anschließend können wir die Daten über die Methode **\"load_digits()\"** importieren"
    },
    {
      "metadata": {
        "trusted": true
      },
      "cell_type": "code",
      "source": "from sklearn import datasets",
      "execution_count": 3,
      "outputs": []
    },
    {
      "metadata": {
        "trusted": true
      },
      "cell_type": "code",
      "source": "zahlen = datasets.load_digits()",
      "execution_count": 4,
      "outputs": []
    },
    {
      "metadata": {},
      "cell_type": "markdown",
      "source": "## Ausgabe der Beispiel Daten"
    },
    {
      "metadata": {},
      "cell_type": "markdown",
      "source": "In der Variable **zahlen** sind jetzt ca. 1800 handschriftliche Ziffern mit der Information über die tatsächliche Zahl gespeichert.\n\n* **zahlen.images[]** : Beinhaltet die handschriftlichen Ziffern in Form von Bildern.\n* **zahlen.data[]** : Beinhaltet die handschriftlichen Ziffern in einer für unser neuronales Netz erforderlichen Form.\n* **zahlen.target[]** : Beinhaltet den zu den handschritlichen Ziffern korrekten Wert.\n"
    },
    {
      "metadata": {},
      "cell_type": "markdown",
      "source": "Für die Ausgabe der handschriftlichen Ziffern als Bild kann die Bibliothek \"matplotlib\" verwendet werden. Diese importieren wir mit import mit einem Synonym (as plt)"
    },
    {
      "metadata": {
        "trusted": true
      },
      "cell_type": "code",
      "source": "from matplotlib import pyplot as plt",
      "execution_count": 2,
      "outputs": [
        {
          "output_type": "stream",
          "text": "/home/nbuser/anaconda3_420/lib/python3.5/site-packages/matplotlib/font_manager.py:281: UserWarning: Matplotlib is building the font cache using fc-list. This may take a moment.\n  'Matplotlib is building the font cache using fc-list. '\n",
          "name": "stderr"
        }
      ]
    },
    {
      "metadata": {},
      "cell_type": "markdown",
      "source": "Anschließend können wir z.B. die ersten 64 Ziffern mit deren Bedeutung über die folgenden Code-Zeilen ausgeben."
    },
    {
      "metadata": {
        "trusted": true
      },
      "cell_type": "code",
      "source": "fig = plt.figure(figsize=(6, 6))  # figure size in inches\nfig.subplots_adjust(left=0, right=1, bottom=0, top=1, hspace=0.05, wspace=0.05)\n\nfor i in range(64):\n    ax = fig.add_subplot(8, 8, i + 1, xticks=[], yticks=[])\n    ax.imshow(zahlen.images[i], cmap=plt.cm.binary, interpolation='nearest')\n    # label the image with the target value\n    ax.text(0, 7, str(zahlen.target[i]))",
      "execution_count": 15,
      "outputs": [
        {
          "output_type": "display_data",
          "data": {
            "image/png": "[encoded data removed]",
            "text/plain": "<matplotlib.figure.Figure at 0x7fa4cab7f8d0>"
          },
          "metadata": {}
        }
      ]
    },
    {
      "metadata": {
        "trusted": true
      },
      "cell_type": "markdown",
      "source": "Genaus so ist es auch möglich nur einzelne Ziffern aus der variable **zahlen** auszugeben. Hierfür nutzen wir einen Index (beginnt bei 0) in []-Klammern."
    },
    {
      "metadata": {
        "trusted": true,
        "scrolled": true
      },
      "cell_type": "code",
      "source": "plt.imshow(zahlen.images[1], cmap=plt.cm.gray_r)\nplt.show()",
      "execution_count": 5,
      "outputs": [
        {
          "output_type": "display_data",
          "data": {
            "image/png": "[encoded data removed]",
            "text/plain": "<matplotlib.figure.Figure at 0x7f361446ac18>"
          },
          "metadata": {}
        }
      ]
    },
    {
      "metadata": {},
      "cell_type": "markdown",
      "source": "Auch wenn für uns Menschen die tatsächliche Ziffer bereits bekannt ist, können wir zur Kontrolle auch die im Datensatz hinterlegte Ziffer prüfen."
    },
    {
      "metadata": {
        "trusted": true
      },
      "cell_type": "code",
      "source": "print(zahlen.target[1])",
      "execution_count": 6,
      "outputs": [
        {
          "output_type": "stream",
          "text": "1\n",
          "name": "stdout"
        }
      ]
    },
    {
      "metadata": {},
      "cell_type": "markdown",
      "source": "### Aufgabe: Gebe das dritte und 13. Bild wie oben aus."
    },
    {
      "metadata": {
        "trusted": true
      },
      "cell_type": "code",
      "source": "# Ausgabe",
      "execution_count": null,
      "outputs": []
    },
    {
      "metadata": {},
      "cell_type": "markdown",
      "source": "##  Das neuronale Netz"
    },
    {
      "metadata": {
        "trusted": true
      },
      "cell_type": "markdown",
      "source": "Das von uns trainierte neuronale Netz basiert auf der Bibilothek **scikit-learn**."
    },
    {
      "metadata": {
        "trusted": true
      },
      "cell_type": "code",
      "source": "from sklearn.svm import SVC",
      "execution_count": 7,
      "outputs": []
    },
    {
      "metadata": {},
      "cell_type": "markdown",
      "source": "Nachdem wir uns ein leeres neuronales Netz über die Methode **SVC** erzeugt haben, können wir dieses mit Hilfe des Befehls **fit()** und unseren Beispieldaten trainieren."
    },
    {
      "metadata": {
        "trusted": true
      },
      "cell_type": "code",
      "source": "neuronales_netz = SVC(gamma=0.001)\nneuronales_netz.fit(zahlen.data, zahlen.target)",
      "execution_count": 8,
      "outputs": [
        {
          "output_type": "execute_result",
          "execution_count": 8,
          "data": {
            "text/plain": "SVC(C=1.0, cache_size=200, class_weight=None, coef0=0.0,\n  decision_function_shape='ovr', degree=3, gamma=0.001, kernel='rbf',\n  max_iter=-1, probability=False, random_state=None, shrinking=True,\n  tol=0.001, verbose=False)"
          },
          "metadata": {}
        }
      ]
    },
    {
      "metadata": {},
      "cell_type": "markdown",
      "source": "### Testen"
    },
    {
      "metadata": {
        "trusted": true
      },
      "cell_type": "markdown",
      "source": "Nach dem wir unser neuronales Netz trainiert haben, können wir Bilder auf die jeweilige Ziffer prüfen lassen (**predict**). Hierfür können wir zunächst Bilder aus unseren Beispiel Daten nehmen.\n\nAus unseren obigen Ergebnissen wissen wir, dass das Bild **zahlen.data[2]** die Ziffer **2** darstellt. Für die Prüfung durch unser neuronales Netz müssen wir die Daten der Bilder zunächst mit dem Befehl **reshape()** umwandeln. Die umgewandelten Bilder speichern wir in der Variable **img**."
    },
    {
      "metadata": {
        "trusted": true
      },
      "cell_type": "code",
      "source": "n_samples = len(zahlen.images)\nimg = zahlen.images.reshape((n_samples,-1))\nneuronales_netz.predict([img[2]])",
      "execution_count": 10,
      "outputs": [
        {
          "output_type": "execute_result",
          "execution_count": 10,
          "data": {
            "text/plain": "array([2])"
          },
          "metadata": {}
        }
      ]
    },
    {
      "metadata": {
        "trusted": true
      },
      "cell_type": "markdown",
      "source": "Auch eigene Bilder können gegen unser neuronales Netz getestet werden. Im Verzeichnis liegen hierzu bereits die Bilder *1.png*, *5.jpg* und *8.jpg*. Weitere Bilder können auch hochgeladen werden. Der Dateiname wird in der Variable **filename** hinterlegt."
    },
    {
      "metadata": {
        "trusted": true
      },
      "cell_type": "code",
      "source": "from skimage.io import imread\nfrom skimage.exposure import rescale_intensity\nfrom skimage.transform import resize\n\nfilename = \"3.png\"\nimg = resize(imread(filename), (8,8))\nimg = rescale_intensity(img, out_range=(0, 16))\n\nx_test = [sum(pixel)/3.0 for row in img for pixel in row]\nprint(\"The predicted digit is {}\".format(neuronales_netz.predict([x_test])))",
      "execution_count": 15,
      "outputs": [
        {
          "output_type": "stream",
          "text": "The predicted digit is [9]\n",
          "name": "stdout"
        }
      ]
    },
    {
      "metadata": {},
      "cell_type": "markdown",
      "source": "Möglicherweise stellen wir bei Test mit eigenen Bildern fest, dass das Ergebnis nicht stimmt. Dies hat mehrere Ursachen:\n* Die Anzahl an Trainings-Daten ist mit 1797 relativ gering\n* Die geringe Auflösung der Bilder von 8x8 Pixel führt schnell dazu, dass \"falsche\" Pixel interpretiert werden."
    },
    {
      "metadata": {},
      "cell_type": "markdown",
      "source": "Zur Prüfung, wie unsere eigenen Bilder mit 8x8 Pixel aussehen, können wir diese mit der Bibilothek \"matplotlib\" anzeigen."
    },
    {
      "metadata": {
        "trusted": true
      },
      "cell_type": "code",
      "source": "plt.imshow(img, cmap=plt.cm.gray_r)\nplt.show()",
      "execution_count": 25,
      "outputs": [
        {
          "output_type": "display_data",
          "data": {
            "image/png": "[encoded data removed]",
            "text/plain": "<matplotlib.figure.Figure at 0x7fb734f51978>"
          },
          "metadata": {}
        }
      ]
    }
  ],
  "metadata": {
    "kernelspec": {
      "name": "python3",
      "display_name": "Python 3",
      "language": "python"
    },
    "language_info": {
      "mimetype": "text/x-python",
      "nbconvert_exporter": "python",
      "name": "python",
      "pygments_lexer": "ipython3",
      "version": "3.5.4",
      "file_extension": ".py",
      "codemirror_mode": {
        "version": 3,
        "name": "ipython"
      }
    }
  },
  "nbformat": 4,
  "nbformat_minor": 2
}